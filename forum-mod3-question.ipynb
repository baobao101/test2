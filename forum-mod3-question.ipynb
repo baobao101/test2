{
 "cells": [
  {
   "cell_type": "markdown",
   "metadata": {},
   "source": [
    "Question:In module 3, there's a lab on functions. Inside, a section shows how to compare strings. I wrote this function and its output gave the correct result, however the textbook solution involves 3 more variables and several more lines (I'm not counting the comments), and I'm not sure why that is. I have a strong feeling that there is something wrong with my solution but I cannot pinpoint what is wrong, and this feeling is eating me up. Please help."
   ]
  },
  {
   "cell_type": "code",
   "execution_count": null,
   "metadata": {},
   "outputs": [],
   "source": [
    "# my approach\n",
    "def compareStrings(x,y): #2 local var\n",
    "    if x==y:\n",
    "        return \"String Matched\"\n",
    "    else:\n",
    "        return \"String not Matched\"\n",
    "compareStrings('Michael Jackson is the best','Michael Jackson is the')"
   ]
  },
  {
   "cell_type": "code",
   "execution_count": null,
   "metadata": {},
   "outputs": [],
   "source": [
    "# textbook solution\n",
    "#Compare two strings using == operator and function\n",
    "def compareStrings(x, y): #2 local\n",
    "# Use if else statement to compare x and y\n",
    "    if x==y:\n",
    "        return 1\n",
    "# Declare two different variables as string1 and string2 and pass string in it\n",
    "string1 = \"Michael Jackson is the best\" #1 global\n",
    "string2 = \"Michael Jackson is the\" #1 global \n",
    "# Declare a variable to store result after comparing both the strings\n",
    "c = compareStrings(string1, string2) #1 global hence 3 global total\n",
    "#Use if else statement to compare the string\n",
    "if c==1:\n",
    "    print(\"\\nString Matched\")\n",
    "else:\n",
    "    print(\"\\nString not Matched\")"
   ]
  }
 ],
 "metadata": {
  "language_info": {
   "name": "python"
  }
 },
 "nbformat": 4,
 "nbformat_minor": 2
}
